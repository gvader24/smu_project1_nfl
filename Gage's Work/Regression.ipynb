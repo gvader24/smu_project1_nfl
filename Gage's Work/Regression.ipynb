{
 "cells": [
  {
   "cell_type": "code",
   "execution_count": 2,
   "id": "664ba9cf",
   "metadata": {},
   "outputs": [],
   "source": [
    "from matplotlib import pyplot as plt\n",
    "from scipy import stats\n",
    "import numpy as np\n",
    "import pandas as pd\n",
    "from sklearn.linear_model import LogisticRegression\n",
    "from sklearn.metrics import classification_report, confusion_matrix\n",
    "import seaborn as sns"
   ]
  },
  {
   "cell_type": "code",
   "execution_count": 3,
   "id": "6ba5b7fc",
   "metadata": {},
   "outputs": [
    {
     "data": {
      "text/html": [
       "<div>\n",
       "<style scoped>\n",
       "    .dataframe tbody tr th:only-of-type {\n",
       "        vertical-align: middle;\n",
       "    }\n",
       "\n",
       "    .dataframe tbody tr th {\n",
       "        vertical-align: top;\n",
       "    }\n",
       "\n",
       "    .dataframe thead th {\n",
       "        text-align: right;\n",
       "    }\n",
       "</style>\n",
       "<table border=\"1\" class=\"dataframe\">\n",
       "  <thead>\n",
       "    <tr style=\"text-align: right;\">\n",
       "      <th></th>\n",
       "      <th>schedule_season</th>\n",
       "      <th>team_home</th>\n",
       "      <th>score_home</th>\n",
       "      <th>score_away</th>\n",
       "      <th>team_away</th>\n",
       "      <th>team_favorite_id</th>\n",
       "      <th>spread_favorite</th>\n",
       "      <th>over_under_line</th>\n",
       "      <th>stadium</th>\n",
       "    </tr>\n",
       "  </thead>\n",
       "  <tbody>\n",
       "    <tr>\n",
       "      <th>0</th>\n",
       "      <td>2000</td>\n",
       "      <td>ATL</td>\n",
       "      <td>36</td>\n",
       "      <td>28</td>\n",
       "      <td>SF</td>\n",
       "      <td>ATL</td>\n",
       "      <td>-6.5</td>\n",
       "      <td>46.5</td>\n",
       "      <td>Georgia Dome</td>\n",
       "    </tr>\n",
       "    <tr>\n",
       "      <th>1</th>\n",
       "      <td>2000</td>\n",
       "      <td>BUF</td>\n",
       "      <td>16</td>\n",
       "      <td>13</td>\n",
       "      <td>TEN</td>\n",
       "      <td>BUF</td>\n",
       "      <td>-1.0</td>\n",
       "      <td>40.0</td>\n",
       "      <td>New Era Field</td>\n",
       "    </tr>\n",
       "    <tr>\n",
       "      <th>2</th>\n",
       "      <td>2000</td>\n",
       "      <td>CLE</td>\n",
       "      <td>7</td>\n",
       "      <td>27</td>\n",
       "      <td>JAX</td>\n",
       "      <td>JAX</td>\n",
       "      <td>-10.5</td>\n",
       "      <td>38.5</td>\n",
       "      <td>FirstEnergy Stadium</td>\n",
       "    </tr>\n",
       "    <tr>\n",
       "      <th>3</th>\n",
       "      <td>2000</td>\n",
       "      <td>DAL</td>\n",
       "      <td>14</td>\n",
       "      <td>41</td>\n",
       "      <td>PHI</td>\n",
       "      <td>DAL</td>\n",
       "      <td>-6.0</td>\n",
       "      <td>39.5</td>\n",
       "      <td>Texas Stadium</td>\n",
       "    </tr>\n",
       "    <tr>\n",
       "      <th>4</th>\n",
       "      <td>2000</td>\n",
       "      <td>GB</td>\n",
       "      <td>16</td>\n",
       "      <td>20</td>\n",
       "      <td>NYJ</td>\n",
       "      <td>GB</td>\n",
       "      <td>-2.5</td>\n",
       "      <td>44.0</td>\n",
       "      <td>Lambeau Field</td>\n",
       "    </tr>\n",
       "  </tbody>\n",
       "</table>\n",
       "</div>"
      ],
      "text/plain": [
       "   schedule_season team_home  score_home  score_away team_away  \\\n",
       "0             2000       ATL          36          28        SF   \n",
       "1             2000       BUF          16          13       TEN   \n",
       "2             2000       CLE           7          27       JAX   \n",
       "3             2000       DAL          14          41       PHI   \n",
       "4             2000        GB          16          20       NYJ   \n",
       "\n",
       "  team_favorite_id  spread_favorite  over_under_line              stadium  \n",
       "0              ATL             -6.5             46.5         Georgia Dome  \n",
       "1              BUF             -1.0             40.0        New Era Field  \n",
       "2              JAX            -10.5             38.5  FirstEnergy Stadium  \n",
       "3              DAL             -6.0             39.5        Texas Stadium  \n",
       "4               GB             -2.5             44.0        Lambeau Field  "
      ]
     },
     "execution_count": 3,
     "metadata": {},
     "output_type": "execute_result"
    }
   ],
   "source": [
    "game_data = pd.read_csv(\"../Resources/gamedata_clean.csv\")\n",
    "game_data.head()"
   ]
  },
  {
   "cell_type": "code",
   "execution_count": 4,
   "id": "e5a346e4",
   "metadata": {},
   "outputs": [
    {
     "name": "stdout",
     "output_type": "stream",
     "text": [
      "<class 'pandas.core.frame.DataFrame'>\n",
      "RangeIndex: 5061 entries, 0 to 5060\n",
      "Data columns (total 9 columns):\n",
      " #   Column            Non-Null Count  Dtype  \n",
      "---  ------            --------------  -----  \n",
      " 0   schedule_season   5061 non-null   int64  \n",
      " 1   team_home         5061 non-null   object \n",
      " 2   score_home        5061 non-null   int64  \n",
      " 3   score_away        5061 non-null   int64  \n",
      " 4   team_away         5061 non-null   object \n",
      " 5   team_favorite_id  5061 non-null   object \n",
      " 6   spread_favorite   5061 non-null   float64\n",
      " 7   over_under_line   5061 non-null   float64\n",
      " 8   stadium           5061 non-null   object \n",
      "dtypes: float64(2), int64(3), object(4)\n",
      "memory usage: 356.0+ KB\n"
     ]
    }
   ],
   "source": [
    "game_data.info()"
   ]
  },
  {
   "cell_type": "code",
   "execution_count": 5,
   "id": "b80d5096",
   "metadata": {},
   "outputs": [
    {
     "data": {
      "text/html": [
       "<div>\n",
       "<style scoped>\n",
       "    .dataframe tbody tr th:only-of-type {\n",
       "        vertical-align: middle;\n",
       "    }\n",
       "\n",
       "    .dataframe tbody tr th {\n",
       "        vertical-align: top;\n",
       "    }\n",
       "\n",
       "    .dataframe thead th {\n",
       "        text-align: right;\n",
       "    }\n",
       "</style>\n",
       "<table border=\"1\" class=\"dataframe\">\n",
       "  <thead>\n",
       "    <tr style=\"text-align: right;\">\n",
       "      <th></th>\n",
       "      <th>schedule_season</th>\n",
       "      <th>team_home</th>\n",
       "      <th>score_home</th>\n",
       "      <th>team_away</th>\n",
       "      <th>score_away</th>\n",
       "      <th>team_favorite_id</th>\n",
       "      <th>spread_favorite</th>\n",
       "    </tr>\n",
       "  </thead>\n",
       "  <tbody>\n",
       "    <tr>\n",
       "      <th>0</th>\n",
       "      <td>2000</td>\n",
       "      <td>ATL</td>\n",
       "      <td>36</td>\n",
       "      <td>SF</td>\n",
       "      <td>28</td>\n",
       "      <td>ATL</td>\n",
       "      <td>-6.5</td>\n",
       "    </tr>\n",
       "    <tr>\n",
       "      <th>1</th>\n",
       "      <td>2000</td>\n",
       "      <td>BUF</td>\n",
       "      <td>16</td>\n",
       "      <td>TEN</td>\n",
       "      <td>13</td>\n",
       "      <td>BUF</td>\n",
       "      <td>-1.0</td>\n",
       "    </tr>\n",
       "    <tr>\n",
       "      <th>2</th>\n",
       "      <td>2000</td>\n",
       "      <td>CLE</td>\n",
       "      <td>7</td>\n",
       "      <td>JAX</td>\n",
       "      <td>27</td>\n",
       "      <td>JAX</td>\n",
       "      <td>-10.5</td>\n",
       "    </tr>\n",
       "    <tr>\n",
       "      <th>3</th>\n",
       "      <td>2000</td>\n",
       "      <td>DAL</td>\n",
       "      <td>14</td>\n",
       "      <td>PHI</td>\n",
       "      <td>41</td>\n",
       "      <td>DAL</td>\n",
       "      <td>-6.0</td>\n",
       "    </tr>\n",
       "    <tr>\n",
       "      <th>4</th>\n",
       "      <td>2000</td>\n",
       "      <td>GB</td>\n",
       "      <td>16</td>\n",
       "      <td>NYJ</td>\n",
       "      <td>20</td>\n",
       "      <td>GB</td>\n",
       "      <td>-2.5</td>\n",
       "    </tr>\n",
       "    <tr>\n",
       "      <th>...</th>\n",
       "      <td>...</td>\n",
       "      <td>...</td>\n",
       "      <td>...</td>\n",
       "      <td>...</td>\n",
       "      <td>...</td>\n",
       "      <td>...</td>\n",
       "      <td>...</td>\n",
       "    </tr>\n",
       "    <tr>\n",
       "      <th>5056</th>\n",
       "      <td>2019</td>\n",
       "      <td>MIN</td>\n",
       "      <td>19</td>\n",
       "      <td>CHI</td>\n",
       "      <td>21</td>\n",
       "      <td>CHI</td>\n",
       "      <td>-4.5</td>\n",
       "    </tr>\n",
       "    <tr>\n",
       "      <th>5057</th>\n",
       "      <td>2019</td>\n",
       "      <td>NE</td>\n",
       "      <td>24</td>\n",
       "      <td>MIA</td>\n",
       "      <td>27</td>\n",
       "      <td>NE</td>\n",
       "      <td>-17.0</td>\n",
       "    </tr>\n",
       "    <tr>\n",
       "      <th>5058</th>\n",
       "      <td>2019</td>\n",
       "      <td>NYG</td>\n",
       "      <td>17</td>\n",
       "      <td>PHI</td>\n",
       "      <td>34</td>\n",
       "      <td>PHI</td>\n",
       "      <td>-3.5</td>\n",
       "    </tr>\n",
       "    <tr>\n",
       "      <th>5059</th>\n",
       "      <td>2019</td>\n",
       "      <td>SEA</td>\n",
       "      <td>21</td>\n",
       "      <td>SF</td>\n",
       "      <td>26</td>\n",
       "      <td>SF</td>\n",
       "      <td>-3.5</td>\n",
       "    </tr>\n",
       "    <tr>\n",
       "      <th>5060</th>\n",
       "      <td>2019</td>\n",
       "      <td>TB</td>\n",
       "      <td>22</td>\n",
       "      <td>ATL</td>\n",
       "      <td>28</td>\n",
       "      <td>TB</td>\n",
       "      <td>-1.0</td>\n",
       "    </tr>\n",
       "  </tbody>\n",
       "</table>\n",
       "<p>5061 rows × 7 columns</p>\n",
       "</div>"
      ],
      "text/plain": [
       "      schedule_season team_home  score_home team_away  score_away  \\\n",
       "0                2000       ATL          36        SF          28   \n",
       "1                2000       BUF          16       TEN          13   \n",
       "2                2000       CLE           7       JAX          27   \n",
       "3                2000       DAL          14       PHI          41   \n",
       "4                2000        GB          16       NYJ          20   \n",
       "...               ...       ...         ...       ...         ...   \n",
       "5056             2019       MIN          19       CHI          21   \n",
       "5057             2019        NE          24       MIA          27   \n",
       "5058             2019       NYG          17       PHI          34   \n",
       "5059             2019       SEA          21        SF          26   \n",
       "5060             2019        TB          22       ATL          28   \n",
       "\n",
       "     team_favorite_id  spread_favorite  \n",
       "0                 ATL             -6.5  \n",
       "1                 BUF             -1.0  \n",
       "2                 JAX            -10.5  \n",
       "3                 DAL             -6.0  \n",
       "4                  GB             -2.5  \n",
       "...               ...              ...  \n",
       "5056              CHI             -4.5  \n",
       "5057               NE            -17.0  \n",
       "5058              PHI             -3.5  \n",
       "5059               SF             -3.5  \n",
       "5060               TB             -1.0  \n",
       "\n",
       "[5061 rows x 7 columns]"
      ]
     },
     "execution_count": 5,
     "metadata": {},
     "output_type": "execute_result"
    }
   ],
   "source": [
    "regression_df = game_data.loc[:,[\"schedule_season\", \"team_home\", \"score_home\", \"team_away\", \"score_away\", \"team_favorite_id\", \"spread_favorite\"]]\n",
    "regression_df"
   ]
  },
  {
   "cell_type": "code",
   "execution_count": 6,
   "id": "0b94446e",
   "metadata": {},
   "outputs": [
    {
     "data": {
      "text/html": [
       "<div>\n",
       "<style scoped>\n",
       "    .dataframe tbody tr th:only-of-type {\n",
       "        vertical-align: middle;\n",
       "    }\n",
       "\n",
       "    .dataframe tbody tr th {\n",
       "        vertical-align: top;\n",
       "    }\n",
       "\n",
       "    .dataframe thead th {\n",
       "        text-align: right;\n",
       "    }\n",
       "</style>\n",
       "<table border=\"1\" class=\"dataframe\">\n",
       "  <thead>\n",
       "    <tr style=\"text-align: right;\">\n",
       "      <th></th>\n",
       "      <th>schedule_season</th>\n",
       "      <th>team_home</th>\n",
       "      <th>score_home</th>\n",
       "      <th>team_away</th>\n",
       "      <th>score_away</th>\n",
       "      <th>team_favorite_id</th>\n",
       "      <th>spread_favorite</th>\n",
       "      <th>home_favorite</th>\n",
       "      <th>home_won</th>\n",
       "      <th>home_ties</th>\n",
       "      <th>home_loss</th>\n",
       "      <th>score_diff</th>\n",
       "      <th>favorite_won</th>\n",
       "      <th>spread_covered</th>\n",
       "    </tr>\n",
       "  </thead>\n",
       "  <tbody>\n",
       "    <tr>\n",
       "      <th>0</th>\n",
       "      <td>2000</td>\n",
       "      <td>ATL</td>\n",
       "      <td>36</td>\n",
       "      <td>SF</td>\n",
       "      <td>28</td>\n",
       "      <td>ATL</td>\n",
       "      <td>-6.5</td>\n",
       "      <td>True</td>\n",
       "      <td>True</td>\n",
       "      <td>False</td>\n",
       "      <td>False</td>\n",
       "      <td>8</td>\n",
       "      <td>True</td>\n",
       "      <td>True</td>\n",
       "    </tr>\n",
       "    <tr>\n",
       "      <th>1</th>\n",
       "      <td>2000</td>\n",
       "      <td>BUF</td>\n",
       "      <td>16</td>\n",
       "      <td>TEN</td>\n",
       "      <td>13</td>\n",
       "      <td>BUF</td>\n",
       "      <td>-1.0</td>\n",
       "      <td>True</td>\n",
       "      <td>True</td>\n",
       "      <td>False</td>\n",
       "      <td>False</td>\n",
       "      <td>3</td>\n",
       "      <td>True</td>\n",
       "      <td>True</td>\n",
       "    </tr>\n",
       "    <tr>\n",
       "      <th>2</th>\n",
       "      <td>2000</td>\n",
       "      <td>CLE</td>\n",
       "      <td>7</td>\n",
       "      <td>JAX</td>\n",
       "      <td>27</td>\n",
       "      <td>JAX</td>\n",
       "      <td>-10.5</td>\n",
       "      <td>False</td>\n",
       "      <td>False</td>\n",
       "      <td>False</td>\n",
       "      <td>True</td>\n",
       "      <td>20</td>\n",
       "      <td>True</td>\n",
       "      <td>True</td>\n",
       "    </tr>\n",
       "    <tr>\n",
       "      <th>3</th>\n",
       "      <td>2000</td>\n",
       "      <td>DAL</td>\n",
       "      <td>14</td>\n",
       "      <td>PHI</td>\n",
       "      <td>41</td>\n",
       "      <td>DAL</td>\n",
       "      <td>-6.0</td>\n",
       "      <td>True</td>\n",
       "      <td>False</td>\n",
       "      <td>False</td>\n",
       "      <td>True</td>\n",
       "      <td>27</td>\n",
       "      <td>False</td>\n",
       "      <td>False</td>\n",
       "    </tr>\n",
       "    <tr>\n",
       "      <th>4</th>\n",
       "      <td>2000</td>\n",
       "      <td>GB</td>\n",
       "      <td>16</td>\n",
       "      <td>NYJ</td>\n",
       "      <td>20</td>\n",
       "      <td>GB</td>\n",
       "      <td>-2.5</td>\n",
       "      <td>True</td>\n",
       "      <td>False</td>\n",
       "      <td>False</td>\n",
       "      <td>True</td>\n",
       "      <td>4</td>\n",
       "      <td>False</td>\n",
       "      <td>False</td>\n",
       "    </tr>\n",
       "    <tr>\n",
       "      <th>5</th>\n",
       "      <td>2000</td>\n",
       "      <td>KC</td>\n",
       "      <td>14</td>\n",
       "      <td>IND</td>\n",
       "      <td>27</td>\n",
       "      <td>IND</td>\n",
       "      <td>-3.5</td>\n",
       "      <td>False</td>\n",
       "      <td>False</td>\n",
       "      <td>False</td>\n",
       "      <td>True</td>\n",
       "      <td>13</td>\n",
       "      <td>True</td>\n",
       "      <td>True</td>\n",
       "    </tr>\n",
       "    <tr>\n",
       "      <th>6</th>\n",
       "      <td>2000</td>\n",
       "      <td>MIA</td>\n",
       "      <td>23</td>\n",
       "      <td>SEA</td>\n",
       "      <td>0</td>\n",
       "      <td>MIA</td>\n",
       "      <td>-2.0</td>\n",
       "      <td>True</td>\n",
       "      <td>True</td>\n",
       "      <td>False</td>\n",
       "      <td>False</td>\n",
       "      <td>23</td>\n",
       "      <td>True</td>\n",
       "      <td>True</td>\n",
       "    </tr>\n",
       "    <tr>\n",
       "      <th>7</th>\n",
       "      <td>2000</td>\n",
       "      <td>MIN</td>\n",
       "      <td>30</td>\n",
       "      <td>CHI</td>\n",
       "      <td>27</td>\n",
       "      <td>MIN</td>\n",
       "      <td>-4.5</td>\n",
       "      <td>True</td>\n",
       "      <td>True</td>\n",
       "      <td>False</td>\n",
       "      <td>False</td>\n",
       "      <td>3</td>\n",
       "      <td>True</td>\n",
       "      <td>False</td>\n",
       "    </tr>\n",
       "    <tr>\n",
       "      <th>8</th>\n",
       "      <td>2000</td>\n",
       "      <td>NE</td>\n",
       "      <td>16</td>\n",
       "      <td>TB</td>\n",
       "      <td>21</td>\n",
       "      <td>TB</td>\n",
       "      <td>-3.0</td>\n",
       "      <td>False</td>\n",
       "      <td>False</td>\n",
       "      <td>False</td>\n",
       "      <td>True</td>\n",
       "      <td>5</td>\n",
       "      <td>True</td>\n",
       "      <td>True</td>\n",
       "    </tr>\n",
       "    <tr>\n",
       "      <th>9</th>\n",
       "      <td>2000</td>\n",
       "      <td>NO</td>\n",
       "      <td>10</td>\n",
       "      <td>DET</td>\n",
       "      <td>14</td>\n",
       "      <td>PICK</td>\n",
       "      <td>0.0</td>\n",
       "      <td>False</td>\n",
       "      <td>False</td>\n",
       "      <td>False</td>\n",
       "      <td>True</td>\n",
       "      <td>4</td>\n",
       "      <td>True</td>\n",
       "      <td>True</td>\n",
       "    </tr>\n",
       "    <tr>\n",
       "      <th>10</th>\n",
       "      <td>2000</td>\n",
       "      <td>NYG</td>\n",
       "      <td>21</td>\n",
       "      <td>ARI</td>\n",
       "      <td>16</td>\n",
       "      <td>NYG</td>\n",
       "      <td>-6.5</td>\n",
       "      <td>True</td>\n",
       "      <td>True</td>\n",
       "      <td>False</td>\n",
       "      <td>False</td>\n",
       "      <td>5</td>\n",
       "      <td>True</td>\n",
       "      <td>False</td>\n",
       "    </tr>\n",
       "    <tr>\n",
       "      <th>11</th>\n",
       "      <td>2000</td>\n",
       "      <td>LVR</td>\n",
       "      <td>9</td>\n",
       "      <td>LAC</td>\n",
       "      <td>6</td>\n",
       "      <td>LVR</td>\n",
       "      <td>-6.5</td>\n",
       "      <td>True</td>\n",
       "      <td>True</td>\n",
       "      <td>False</td>\n",
       "      <td>False</td>\n",
       "      <td>3</td>\n",
       "      <td>True</td>\n",
       "      <td>False</td>\n",
       "    </tr>\n",
       "    <tr>\n",
       "      <th>12</th>\n",
       "      <td>2000</td>\n",
       "      <td>PIT</td>\n",
       "      <td>0</td>\n",
       "      <td>BAL</td>\n",
       "      <td>16</td>\n",
       "      <td>BAL</td>\n",
       "      <td>-2.5</td>\n",
       "      <td>False</td>\n",
       "      <td>False</td>\n",
       "      <td>False</td>\n",
       "      <td>True</td>\n",
       "      <td>16</td>\n",
       "      <td>True</td>\n",
       "      <td>True</td>\n",
       "    </tr>\n",
       "    <tr>\n",
       "      <th>13</th>\n",
       "      <td>2000</td>\n",
       "      <td>WAS</td>\n",
       "      <td>20</td>\n",
       "      <td>CAR</td>\n",
       "      <td>17</td>\n",
       "      <td>WAS</td>\n",
       "      <td>-10.5</td>\n",
       "      <td>True</td>\n",
       "      <td>True</td>\n",
       "      <td>False</td>\n",
       "      <td>False</td>\n",
       "      <td>3</td>\n",
       "      <td>True</td>\n",
       "      <td>False</td>\n",
       "    </tr>\n",
       "    <tr>\n",
       "      <th>14</th>\n",
       "      <td>2000</td>\n",
       "      <td>LAR</td>\n",
       "      <td>41</td>\n",
       "      <td>DEN</td>\n",
       "      <td>36</td>\n",
       "      <td>LAR</td>\n",
       "      <td>-6.5</td>\n",
       "      <td>True</td>\n",
       "      <td>True</td>\n",
       "      <td>False</td>\n",
       "      <td>False</td>\n",
       "      <td>5</td>\n",
       "      <td>True</td>\n",
       "      <td>False</td>\n",
       "    </tr>\n",
       "    <tr>\n",
       "      <th>15</th>\n",
       "      <td>2000</td>\n",
       "      <td>ARI</td>\n",
       "      <td>32</td>\n",
       "      <td>DAL</td>\n",
       "      <td>31</td>\n",
       "      <td>ARI</td>\n",
       "      <td>-3.0</td>\n",
       "      <td>True</td>\n",
       "      <td>True</td>\n",
       "      <td>False</td>\n",
       "      <td>False</td>\n",
       "      <td>1</td>\n",
       "      <td>True</td>\n",
       "      <td>False</td>\n",
       "    </tr>\n",
       "    <tr>\n",
       "      <th>16</th>\n",
       "      <td>2000</td>\n",
       "      <td>BAL</td>\n",
       "      <td>39</td>\n",
       "      <td>JAX</td>\n",
       "      <td>36</td>\n",
       "      <td>BAL</td>\n",
       "      <td>-3.0</td>\n",
       "      <td>True</td>\n",
       "      <td>True</td>\n",
       "      <td>False</td>\n",
       "      <td>False</td>\n",
       "      <td>3</td>\n",
       "      <td>True</td>\n",
       "      <td>False</td>\n",
       "    </tr>\n",
       "    <tr>\n",
       "      <th>17</th>\n",
       "      <td>2000</td>\n",
       "      <td>BUF</td>\n",
       "      <td>27</td>\n",
       "      <td>GB</td>\n",
       "      <td>18</td>\n",
       "      <td>BUF</td>\n",
       "      <td>-6.0</td>\n",
       "      <td>True</td>\n",
       "      <td>True</td>\n",
       "      <td>False</td>\n",
       "      <td>False</td>\n",
       "      <td>9</td>\n",
       "      <td>True</td>\n",
       "      <td>True</td>\n",
       "    </tr>\n",
       "    <tr>\n",
       "      <th>18</th>\n",
       "      <td>2000</td>\n",
       "      <td>CIN</td>\n",
       "      <td>7</td>\n",
       "      <td>CLE</td>\n",
       "      <td>24</td>\n",
       "      <td>CIN</td>\n",
       "      <td>-6.0</td>\n",
       "      <td>True</td>\n",
       "      <td>False</td>\n",
       "      <td>False</td>\n",
       "      <td>True</td>\n",
       "      <td>17</td>\n",
       "      <td>False</td>\n",
       "      <td>False</td>\n",
       "    </tr>\n",
       "    <tr>\n",
       "      <th>19</th>\n",
       "      <td>2000</td>\n",
       "      <td>DEN</td>\n",
       "      <td>42</td>\n",
       "      <td>ATL</td>\n",
       "      <td>14</td>\n",
       "      <td>DEN</td>\n",
       "      <td>-4.5</td>\n",
       "      <td>True</td>\n",
       "      <td>True</td>\n",
       "      <td>False</td>\n",
       "      <td>False</td>\n",
       "      <td>28</td>\n",
       "      <td>True</td>\n",
       "      <td>True</td>\n",
       "    </tr>\n",
       "  </tbody>\n",
       "</table>\n",
       "</div>"
      ],
      "text/plain": [
       "    schedule_season team_home  score_home team_away  score_away  \\\n",
       "0              2000       ATL          36        SF          28   \n",
       "1              2000       BUF          16       TEN          13   \n",
       "2              2000       CLE           7       JAX          27   \n",
       "3              2000       DAL          14       PHI          41   \n",
       "4              2000        GB          16       NYJ          20   \n",
       "5              2000        KC          14       IND          27   \n",
       "6              2000       MIA          23       SEA           0   \n",
       "7              2000       MIN          30       CHI          27   \n",
       "8              2000        NE          16        TB          21   \n",
       "9              2000        NO          10       DET          14   \n",
       "10             2000       NYG          21       ARI          16   \n",
       "11             2000       LVR           9       LAC           6   \n",
       "12             2000       PIT           0       BAL          16   \n",
       "13             2000       WAS          20       CAR          17   \n",
       "14             2000       LAR          41       DEN          36   \n",
       "15             2000       ARI          32       DAL          31   \n",
       "16             2000       BAL          39       JAX          36   \n",
       "17             2000       BUF          27        GB          18   \n",
       "18             2000       CIN           7       CLE          24   \n",
       "19             2000       DEN          42       ATL          14   \n",
       "\n",
       "   team_favorite_id  spread_favorite  home_favorite  home_won  home_ties  \\\n",
       "0               ATL             -6.5           True      True      False   \n",
       "1               BUF             -1.0           True      True      False   \n",
       "2               JAX            -10.5          False     False      False   \n",
       "3               DAL             -6.0           True     False      False   \n",
       "4                GB             -2.5           True     False      False   \n",
       "5               IND             -3.5          False     False      False   \n",
       "6               MIA             -2.0           True      True      False   \n",
       "7               MIN             -4.5           True      True      False   \n",
       "8                TB             -3.0          False     False      False   \n",
       "9              PICK              0.0          False     False      False   \n",
       "10              NYG             -6.5           True      True      False   \n",
       "11              LVR             -6.5           True      True      False   \n",
       "12              BAL             -2.5          False     False      False   \n",
       "13              WAS            -10.5           True      True      False   \n",
       "14              LAR             -6.5           True      True      False   \n",
       "15              ARI             -3.0           True      True      False   \n",
       "16              BAL             -3.0           True      True      False   \n",
       "17              BUF             -6.0           True      True      False   \n",
       "18              CIN             -6.0           True     False      False   \n",
       "19              DEN             -4.5           True      True      False   \n",
       "\n",
       "    home_loss  score_diff  favorite_won  spread_covered  \n",
       "0       False           8          True            True  \n",
       "1       False           3          True            True  \n",
       "2        True          20          True            True  \n",
       "3        True          27         False           False  \n",
       "4        True           4         False           False  \n",
       "5        True          13          True            True  \n",
       "6       False          23          True            True  \n",
       "7       False           3          True           False  \n",
       "8        True           5          True            True  \n",
       "9        True           4          True            True  \n",
       "10      False           5          True           False  \n",
       "11      False           3          True           False  \n",
       "12       True          16          True            True  \n",
       "13      False           3          True           False  \n",
       "14      False           5          True           False  \n",
       "15      False           1          True           False  \n",
       "16      False           3          True           False  \n",
       "17      False           9          True            True  \n",
       "18       True          17         False           False  \n",
       "19      False          28          True            True  "
      ]
     },
     "execution_count": 6,
     "metadata": {},
     "output_type": "execute_result"
    }
   ],
   "source": [
    "regression_df[\"home_favorite\"] = regression_df.team_favorite_id == regression_df.team_home\n",
    "regression_df[\"home_won\"] = regression_df.score_home > regression_df.score_away\n",
    "regression_df[\"home_ties\"] = regression_df.score_home == regression_df.score_away\n",
    "regression_df[\"home_loss\"] = regression_df.score_home < regression_df.score_away\n",
    "regression_df[\"score_diff\"] = abs(regression_df.score_home - regression_df.score_away)\n",
    "regression_df[\"favorite_won\"] = (regression_df.home_favorite & regression_df.home_won) | (~regression_df.home_favorite & regression_df.home_loss)\n",
    "regression_df[\"spread_covered\"] = regression_df.favorite_won & (regression_df.score_diff > abs(regression_df.spread_favorite))\n",
    "regression_df.head(20)"
   ]
  },
  {
   "cell_type": "code",
   "execution_count": 7,
   "id": "146f3f17",
   "metadata": {},
   "outputs": [
    {
     "data": {
      "text/plain": [
       "2387"
      ]
     },
     "execution_count": 7,
     "metadata": {},
     "output_type": "execute_result"
    }
   ],
   "source": [
    "regression_df.spread_covered.sum()"
   ]
  },
  {
   "cell_type": "code",
   "execution_count": 8,
   "id": "608f5772",
   "metadata": {},
   "outputs": [
    {
     "data": {
      "text/plain": [
       "NE      138\n",
       "GB      117\n",
       "PHI     109\n",
       "IND     109\n",
       "PIT     108\n",
       "NO      100\n",
       "BAL      98\n",
       "DEN      89\n",
       "SEA      88\n",
       "MIN      84\n",
       "KC       81\n",
       "LAC      80\n",
       "DAL      80\n",
       "ATL      78\n",
       "NYG      77\n",
       "CAR      71\n",
       "LAR      68\n",
       "TEN      67\n",
       "NYJ      63\n",
       "SF       62\n",
       "CHI      62\n",
       "CIN      60\n",
       "BUF      58\n",
       "TB       58\n",
       "HOU      53\n",
       "MIA      51\n",
       "ARI      48\n",
       "JAX      48\n",
       "DET      43\n",
       "LVR      42\n",
       "WAS      41\n",
       "CLE      36\n",
       "PICK     20\n",
       "Name: team_favorite_id, dtype: int64"
      ]
     },
     "execution_count": 8,
     "metadata": {},
     "output_type": "execute_result"
    }
   ],
   "source": [
    "regression_df.loc[regression_df.spread_covered].team_favorite_id.value_counts()"
   ]
  },
  {
   "cell_type": "code",
   "execution_count": 9,
   "id": "b67111ea",
   "metadata": {},
   "outputs": [
    {
     "data": {
      "text/html": [
       "<div>\n",
       "<style scoped>\n",
       "    .dataframe tbody tr th:only-of-type {\n",
       "        vertical-align: middle;\n",
       "    }\n",
       "\n",
       "    .dataframe tbody tr th {\n",
       "        vertical-align: top;\n",
       "    }\n",
       "\n",
       "    .dataframe thead th {\n",
       "        text-align: right;\n",
       "    }\n",
       "</style>\n",
       "<table border=\"1\" class=\"dataframe\">\n",
       "  <thead>\n",
       "    <tr style=\"text-align: right;\">\n",
       "      <th></th>\n",
       "      <th>schedule_season</th>\n",
       "      <th>team_home</th>\n",
       "      <th>score_home</th>\n",
       "      <th>team_away</th>\n",
       "      <th>score_away</th>\n",
       "      <th>team_favorite_id</th>\n",
       "      <th>spread_favorite</th>\n",
       "      <th>home_favorite</th>\n",
       "      <th>home_won</th>\n",
       "      <th>home_ties</th>\n",
       "      <th>home_loss</th>\n",
       "      <th>score_diff</th>\n",
       "      <th>favorite_won</th>\n",
       "      <th>spread_covered</th>\n",
       "    </tr>\n",
       "  </thead>\n",
       "  <tbody>\n",
       "    <tr>\n",
       "      <th>4</th>\n",
       "      <td>2000</td>\n",
       "      <td>GB</td>\n",
       "      <td>16</td>\n",
       "      <td>NYJ</td>\n",
       "      <td>20</td>\n",
       "      <td>GB</td>\n",
       "      <td>-2.5</td>\n",
       "      <td>True</td>\n",
       "      <td>False</td>\n",
       "      <td>False</td>\n",
       "      <td>True</td>\n",
       "      <td>4</td>\n",
       "      <td>False</td>\n",
       "      <td>False</td>\n",
       "    </tr>\n",
       "    <tr>\n",
       "      <th>34</th>\n",
       "      <td>2000</td>\n",
       "      <td>GB</td>\n",
       "      <td>6</td>\n",
       "      <td>PHI</td>\n",
       "      <td>3</td>\n",
       "      <td>GB</td>\n",
       "      <td>-4.0</td>\n",
       "      <td>True</td>\n",
       "      <td>True</td>\n",
       "      <td>False</td>\n",
       "      <td>False</td>\n",
       "      <td>3</td>\n",
       "      <td>True</td>\n",
       "      <td>False</td>\n",
       "    </tr>\n",
       "    <tr>\n",
       "      <th>64</th>\n",
       "      <td>2000</td>\n",
       "      <td>GB</td>\n",
       "      <td>24</td>\n",
       "      <td>CHI</td>\n",
       "      <td>27</td>\n",
       "      <td>GB</td>\n",
       "      <td>-5.5</td>\n",
       "      <td>True</td>\n",
       "      <td>False</td>\n",
       "      <td>False</td>\n",
       "      <td>True</td>\n",
       "      <td>3</td>\n",
       "      <td>False</td>\n",
       "      <td>False</td>\n",
       "    </tr>\n",
       "    <tr>\n",
       "      <th>90</th>\n",
       "      <td>2000</td>\n",
       "      <td>GB</td>\n",
       "      <td>31</td>\n",
       "      <td>SF</td>\n",
       "      <td>28</td>\n",
       "      <td>GB</td>\n",
       "      <td>-4.5</td>\n",
       "      <td>True</td>\n",
       "      <td>True</td>\n",
       "      <td>False</td>\n",
       "      <td>False</td>\n",
       "      <td>3</td>\n",
       "      <td>True</td>\n",
       "      <td>False</td>\n",
       "    </tr>\n",
       "    <tr>\n",
       "      <th>192</th>\n",
       "      <td>2000</td>\n",
       "      <td>CHI</td>\n",
       "      <td>6</td>\n",
       "      <td>GB</td>\n",
       "      <td>28</td>\n",
       "      <td>GB</td>\n",
       "      <td>-2.5</td>\n",
       "      <td>False</td>\n",
       "      <td>False</td>\n",
       "      <td>False</td>\n",
       "      <td>True</td>\n",
       "      <td>22</td>\n",
       "      <td>True</td>\n",
       "      <td>True</td>\n",
       "    </tr>\n",
       "    <tr>\n",
       "      <th>...</th>\n",
       "      <td>...</td>\n",
       "      <td>...</td>\n",
       "      <td>...</td>\n",
       "      <td>...</td>\n",
       "      <td>...</td>\n",
       "      <td>...</td>\n",
       "      <td>...</td>\n",
       "      <td>...</td>\n",
       "      <td>...</td>\n",
       "      <td>...</td>\n",
       "      <td>...</td>\n",
       "      <td>...</td>\n",
       "      <td>...</td>\n",
       "      <td>...</td>\n",
       "    </tr>\n",
       "    <tr>\n",
       "      <th>4946</th>\n",
       "      <td>2019</td>\n",
       "      <td>GB</td>\n",
       "      <td>24</td>\n",
       "      <td>CAR</td>\n",
       "      <td>16</td>\n",
       "      <td>GB</td>\n",
       "      <td>-5.0</td>\n",
       "      <td>True</td>\n",
       "      <td>True</td>\n",
       "      <td>False</td>\n",
       "      <td>False</td>\n",
       "      <td>8</td>\n",
       "      <td>True</td>\n",
       "      <td>True</td>\n",
       "    </tr>\n",
       "    <tr>\n",
       "      <th>4994</th>\n",
       "      <td>2019</td>\n",
       "      <td>NYG</td>\n",
       "      <td>13</td>\n",
       "      <td>GB</td>\n",
       "      <td>31</td>\n",
       "      <td>GB</td>\n",
       "      <td>-6.5</td>\n",
       "      <td>False</td>\n",
       "      <td>False</td>\n",
       "      <td>False</td>\n",
       "      <td>True</td>\n",
       "      <td>18</td>\n",
       "      <td>True</td>\n",
       "      <td>True</td>\n",
       "    </tr>\n",
       "    <tr>\n",
       "      <th>5002</th>\n",
       "      <td>2019</td>\n",
       "      <td>GB</td>\n",
       "      <td>20</td>\n",
       "      <td>WAS</td>\n",
       "      <td>15</td>\n",
       "      <td>GB</td>\n",
       "      <td>-13.0</td>\n",
       "      <td>True</td>\n",
       "      <td>True</td>\n",
       "      <td>False</td>\n",
       "      <td>False</td>\n",
       "      <td>5</td>\n",
       "      <td>True</td>\n",
       "      <td>False</td>\n",
       "    </tr>\n",
       "    <tr>\n",
       "      <th>5019</th>\n",
       "      <td>2019</td>\n",
       "      <td>GB</td>\n",
       "      <td>21</td>\n",
       "      <td>CHI</td>\n",
       "      <td>13</td>\n",
       "      <td>GB</td>\n",
       "      <td>-4.5</td>\n",
       "      <td>True</td>\n",
       "      <td>True</td>\n",
       "      <td>False</td>\n",
       "      <td>False</td>\n",
       "      <td>8</td>\n",
       "      <td>True</td>\n",
       "      <td>True</td>\n",
       "    </tr>\n",
       "    <tr>\n",
       "      <th>5051</th>\n",
       "      <td>2019</td>\n",
       "      <td>DET</td>\n",
       "      <td>20</td>\n",
       "      <td>GB</td>\n",
       "      <td>23</td>\n",
       "      <td>GB</td>\n",
       "      <td>-13.0</td>\n",
       "      <td>False</td>\n",
       "      <td>False</td>\n",
       "      <td>False</td>\n",
       "      <td>True</td>\n",
       "      <td>3</td>\n",
       "      <td>True</td>\n",
       "      <td>False</td>\n",
       "    </tr>\n",
       "  </tbody>\n",
       "</table>\n",
       "<p>214 rows × 14 columns</p>\n",
       "</div>"
      ],
      "text/plain": [
       "      schedule_season team_home  score_home team_away  score_away  \\\n",
       "4                2000        GB          16       NYJ          20   \n",
       "34               2000        GB           6       PHI           3   \n",
       "64               2000        GB          24       CHI          27   \n",
       "90               2000        GB          31        SF          28   \n",
       "192              2000       CHI           6        GB          28   \n",
       "...               ...       ...         ...       ...         ...   \n",
       "4946             2019        GB          24       CAR          16   \n",
       "4994             2019       NYG          13        GB          31   \n",
       "5002             2019        GB          20       WAS          15   \n",
       "5019             2019        GB          21       CHI          13   \n",
       "5051             2019       DET          20        GB          23   \n",
       "\n",
       "     team_favorite_id  spread_favorite  home_favorite  home_won  home_ties  \\\n",
       "4                  GB             -2.5           True     False      False   \n",
       "34                 GB             -4.0           True      True      False   \n",
       "64                 GB             -5.5           True     False      False   \n",
       "90                 GB             -4.5           True      True      False   \n",
       "192                GB             -2.5          False     False      False   \n",
       "...               ...              ...            ...       ...        ...   \n",
       "4946               GB             -5.0           True      True      False   \n",
       "4994               GB             -6.5          False     False      False   \n",
       "5002               GB            -13.0           True      True      False   \n",
       "5019               GB             -4.5           True      True      False   \n",
       "5051               GB            -13.0          False     False      False   \n",
       "\n",
       "      home_loss  score_diff  favorite_won  spread_covered  \n",
       "4          True           4         False           False  \n",
       "34        False           3          True           False  \n",
       "64         True           3         False           False  \n",
       "90        False           3          True           False  \n",
       "192        True          22          True            True  \n",
       "...         ...         ...           ...             ...  \n",
       "4946      False           8          True            True  \n",
       "4994       True          18          True            True  \n",
       "5002      False           5          True           False  \n",
       "5019      False           8          True            True  \n",
       "5051       True           3          True           False  \n",
       "\n",
       "[214 rows x 14 columns]"
      ]
     },
     "execution_count": 9,
     "metadata": {},
     "output_type": "execute_result"
    }
   ],
   "source": [
    "mask = (regression_df.team_favorite_id == \"GB\")\n",
    "regression_df.loc[mask]"
   ]
  },
  {
   "cell_type": "code",
   "execution_count": 10,
   "id": "08c78248",
   "metadata": {},
   "outputs": [
    {
     "data": {
      "text/plain": [
       "False    2674\n",
       "True     2387\n",
       "Name: spread_covered, dtype: int64"
      ]
     },
     "execution_count": 10,
     "metadata": {},
     "output_type": "execute_result"
    }
   ],
   "source": [
    "regression_df.spread_covered.value_counts()"
   ]
  },
  {
   "cell_type": "code",
   "execution_count": 11,
   "id": "0a3e5208",
   "metadata": {},
   "outputs": [
    {
     "data": {
      "text/html": [
       "<div>\n",
       "<style scoped>\n",
       "    .dataframe tbody tr th:only-of-type {\n",
       "        vertical-align: middle;\n",
       "    }\n",
       "\n",
       "    .dataframe tbody tr th {\n",
       "        vertical-align: top;\n",
       "    }\n",
       "\n",
       "    .dataframe thead th {\n",
       "        text-align: right;\n",
       "    }\n",
       "</style>\n",
       "<table border=\"1\" class=\"dataframe\">\n",
       "  <thead>\n",
       "    <tr style=\"text-align: right;\">\n",
       "      <th></th>\n",
       "      <th>schedule_season</th>\n",
       "      <th>score_home</th>\n",
       "      <th>score_away</th>\n",
       "      <th>spread_favorite</th>\n",
       "      <th>home_favorite</th>\n",
       "      <th>home_won</th>\n",
       "      <th>home_ties</th>\n",
       "      <th>home_loss</th>\n",
       "      <th>score_diff</th>\n",
       "      <th>favorite_won</th>\n",
       "    </tr>\n",
       "    <tr>\n",
       "      <th>spread_covered</th>\n",
       "      <th></th>\n",
       "      <th></th>\n",
       "      <th></th>\n",
       "      <th></th>\n",
       "      <th></th>\n",
       "      <th></th>\n",
       "      <th></th>\n",
       "      <th></th>\n",
       "      <th></th>\n",
       "      <th></th>\n",
       "    </tr>\n",
       "  </thead>\n",
       "  <tbody>\n",
       "    <tr>\n",
       "      <th>False</th>\n",
       "      <td>2009.524308</td>\n",
       "      <td>21.346298</td>\n",
       "      <td>22.040015</td>\n",
       "      <td>-5.414921</td>\n",
       "      <td>0.665295</td>\n",
       "      <td>0.496260</td>\n",
       "      <td>0.003366</td>\n",
       "      <td>0.500374</td>\n",
       "      <td>7.363874</td>\n",
       "      <td>0.359013</td>\n",
       "    </tr>\n",
       "    <tr>\n",
       "      <th>True</th>\n",
       "      <td>2009.467951</td>\n",
       "      <td>25.076246</td>\n",
       "      <td>19.167574</td>\n",
       "      <td>-5.375576</td>\n",
       "      <td>0.651864</td>\n",
       "      <td>0.651864</td>\n",
       "      <td>0.000000</td>\n",
       "      <td>0.348136</td>\n",
       "      <td>16.493506</td>\n",
       "      <td>1.000000</td>\n",
       "    </tr>\n",
       "  </tbody>\n",
       "</table>\n",
       "</div>"
      ],
      "text/plain": [
       "                schedule_season  score_home  score_away  spread_favorite  \\\n",
       "spread_covered                                                             \n",
       "False               2009.524308   21.346298   22.040015        -5.414921   \n",
       "True                2009.467951   25.076246   19.167574        -5.375576   \n",
       "\n",
       "                home_favorite  home_won  home_ties  home_loss  score_diff  \\\n",
       "spread_covered                                                              \n",
       "False                0.665295  0.496260   0.003366   0.500374    7.363874   \n",
       "True                 0.651864  0.651864   0.000000   0.348136   16.493506   \n",
       "\n",
       "                favorite_won  \n",
       "spread_covered                \n",
       "False               0.359013  \n",
       "True                1.000000  "
      ]
     },
     "execution_count": 11,
     "metadata": {},
     "output_type": "execute_result"
    }
   ],
   "source": [
    "regression_df.groupby('spread_covered').mean()"
   ]
  },
  {
   "cell_type": "code",
   "execution_count": 12,
   "id": "ee4752c6",
   "metadata": {},
   "outputs": [
    {
     "data": {
      "text/plain": [
       "Text(0, 0.5, '')"
      ]
     },
     "execution_count": 12,
     "metadata": {},
     "output_type": "execute_result"
    },
    {
     "data": {
      "image/png": "[encoded data removed]",
      "text/plain": [
       "<Figure size 432x288 with 1 Axes>"
      ]
     },
     "metadata": {
      "needs_background": "light"
     },
     "output_type": "display_data"
    }
   ],
   "source": [
    "%matplotlib inline\n",
    "pd.crosstab(regression_df.team_favorite_id,regression_df.spread_covered).plot(kind='bar')\n",
    "plt.title('')\n",
    "plt.xlabel('Team')\n",
    "plt.ylabel('')"
   ]
  },
  {
   "cell_type": "code",
   "execution_count": 13,
   "id": "07d41f34",
   "metadata": {},
   "outputs": [
    {
     "data": {
      "text/plain": [
       "2007    8\n",
       "2019    7\n",
       "2017    7\n",
       "2008    7\n",
       "2009    7\n",
       "2003    7\n",
       "2006    6\n",
       "2016    6\n",
       "2014    5\n",
       "2013    3\n",
       "2018    3\n",
       "2011    3\n",
       "2004    3\n",
       "2012    2\n",
       "2005    2\n",
       "2000    2\n",
       "2015    1\n",
       "2010    1\n",
       "Name: schedule_season, dtype: int64"
      ]
     },
     "execution_count": 13,
     "metadata": {},
     "output_type": "execute_result"
    }
   ],
   "source": [
    "regression_df.loc[(regression_df.team_favorite_id == \"DAL\") & (regression_df.spread_covered == True)].schedule_season.value_counts()"
   ]
  },
  {
   "cell_type": "code",
   "execution_count": 14,
   "id": "b1216f60",
   "metadata": {},
   "outputs": [
    {
     "data": {
      "text/plain": [
       "True    80\n",
       "Name: spread_covered, dtype: int64"
      ]
     },
     "execution_count": 14,
     "metadata": {},
     "output_type": "execute_result"
    }
   ],
   "source": [
    "regression_df.loc[(regression_df.team_favorite_id == \"DAL\") & (regression_df.spread_covered == True)].spread_covered.value_counts()"
   ]
  },
  {
   "cell_type": "code",
   "execution_count": 15,
   "id": "94b39e7f",
   "metadata": {},
   "outputs": [
    {
     "data": {
      "text/plain": [
       "2000"
      ]
     },
     "execution_count": 15,
     "metadata": {},
     "output_type": "execute_result"
    }
   ],
   "source": [
    "years = regression_df.schedule_season.unique()\n",
    "years[0]"
   ]
  },
  {
   "cell_type": "code",
   "execution_count": 19,
   "id": "a6e99a35",
   "metadata": {},
   "outputs": [],
   "source": [
    "covered_count = []\n",
    "not_covered_count = []\n",
    "\n",
    "for year in years:\n",
    "    covered_count.append(len(regression_df.loc[(regression_df.team_favorite_id == \"GB\") & (regression_df.spread_covered == True) & (regression_df.schedule_season == year)]))\n",
    "\n",
    "for year in years:\n",
    "    not_covered_count.append(len(regression_df.loc[(regression_df.team_favorite_id == \"GB\") & (regression_df.spread_covered == False) & (regression_df.schedule_season == year)]))"
   ]
  },
  {
   "cell_type": "code",
   "execution_count": 20,
   "id": "6794e10d",
   "metadata": {},
   "outputs": [],
   "source": [
    "pe_slope, pe_int, pe_r, pe_p, pe_std_err = stats.linregress(years, covered_count)\n",
    "pe_fit = pe_slope * years + pe_int"
   ]
  },
  {
   "cell_type": "code",
   "execution_count": 21,
   "id": "54cfb938",
   "metadata": {},
   "outputs": [
    {
     "data": {
      "image/png": "[encoded data removed]",
      "text/plain": [
       "<Figure size 720x432 with 1 Axes>"
      ]
     },
     "metadata": {
      "needs_background": "light"
     },
     "output_type": "display_data"
    }
   ],
   "source": [
    "plt.figure(figsize=(10,6))\n",
    "plt.scatter(years,covered_count)\n",
    "plt.plot(years,pe_fit,\"--\")\n",
    "plt.xticks(years)\n",
    "plt.xlabel('Year')\n",
    "plt.ylabel('# of Games Covered')\n",
    "plt.show()"
   ]
  },
  {
   "cell_type": "code",
   "execution_count": 25,
   "id": "0bbc7284",
   "metadata": {},
   "outputs": [
    {
     "data": {
      "image/png": "[encoded data removed]",
      "text/plain": [
       "<Figure size 864x576 with 1 Axes>"
      ]
     },
     "metadata": {
      "needs_background": "light"
     },
     "output_type": "display_data"
    }
   ],
   "source": [
    "plt.figure(figsize=(12,8))\n",
    "plt.bar(years, covered_count, label='Covered', color='#013369')\n",
    "plt.bar(years, not_covered_count, bottom=covered_count, label='Not Covered', color='#D50A0A')\n",
    "plt.xticks(years)\n",
    "plt.title(\"Green Bay Packers Spread Coverage When Favored\")\n",
    "plt.xlabel('Year')\n",
    "plt.ylabel('# of Games')\n",
    "plt.ylim([0, 16.5])\n",
    "plt.legend()\n",
    "plt.show()"
   ]
  },
  {
   "cell_type": "code",
   "execution_count": 26,
   "id": "11c9c6bc",
   "metadata": {},
   "outputs": [
    {
     "data": {
      "text/plain": [
       "array(['ARI', 'ATL', 'BAL', 'BUF', 'CAR', 'CHI', 'CIN', 'CLE', 'DAL',\n",
       "       'DEN', 'DET', 'GB', 'HOU', 'IND', 'JAX', 'KC', 'LAC', 'LAR', 'LVR',\n",
       "       'MIA', 'MIN', 'NE', 'NO', 'NYG', 'NYJ', 'PHI', 'PIT', 'SEA', 'SF',\n",
       "       'TB', 'TEN', 'WAS'], dtype=object)"
      ]
     },
     "execution_count": 26,
     "metadata": {},
     "output_type": "execute_result"
    }
   ],
   "source": [
    "teams = regression_df.team_home.sort_values().unique()\n",
    "teams"
   ]
  },
  {
   "cell_type": "code",
   "execution_count": 27,
   "id": "b6e94b43",
   "metadata": {},
   "outputs": [
    {
     "name": "stdout",
     "output_type": "stream",
     "text": [
      "[48, 78, 98, 58, 71, 62, 60, 36, 80, 89, 43, 117, 53, 109, 48, 81, 80, 68, 42, 51, 84, 138, 100, 77, 63, 109, 108, 88, 62, 58, 67, 41]\n",
      "[59, 84, 101, 54, 85, 72, 76, 44, 101, 115, 63, 97, 65, 102, 64, 83, 91, 86, 62, 70, 82, 113, 93, 88, 76, 103, 120, 95, 72, 78, 87, 71]\n"
     ]
    }
   ],
   "source": [
    "covered_count = []\n",
    "not_covered_count = []\n",
    "\n",
    "for team in teams:\n",
    "    covered_count.append(len(regression_df.loc[(regression_df.team_favorite_id == team) & (regression_df.spread_covered == True)]))\n",
    "\n",
    "for team in teams:\n",
    "    not_covered_count.append(len(regression_df.loc[(regression_df.team_favorite_id == team) & (regression_df.spread_covered == False)]))\n",
    "    \n",
    "print(covered_count)\n",
    "print(not_covered_count)"
   ]
  },
  {
   "cell_type": "code",
   "execution_count": 28,
   "id": "f0ef3458",
   "metadata": {},
   "outputs": [
    {
     "data": {
      "image/png": "[encoded data removed]",
      "text/plain": [
       "<Figure size 1296x432 with 1 Axes>"
      ]
     },
     "metadata": {
      "needs_background": "light"
     },
     "output_type": "display_data"
    }
   ],
   "source": [
    "plt.figure(figsize=(18,6))\n",
    "plt.scatter(teams,covered_count)\n",
    "plt.xticks(teams)\n",
    "plt.xlabel('Team')\n",
    "plt.ylabel('# of Games Covered')\n",
    "plt.show()"
   ]
  },
  {
   "cell_type": "code",
   "execution_count": 29,
   "id": "42ad2db0",
   "metadata": {},
   "outputs": [
    {
     "data": {
      "image/png": "[encoded data removed]",
      "text/plain": [
       "<Figure size 1296x576 with 1 Axes>"
      ]
     },
     "metadata": {
      "needs_background": "light"
     },
     "output_type": "display_data"
    }
   ],
   "source": [
    "plt.figure(figsize=(18,8))\n",
    "plt.bar(teams, covered_count, label='Covered', color='#013369')\n",
    "plt.bar(teams, not_covered_count, bottom=covered_count, label='Not Covered', color='#D50A0A')\n",
    "plt.xticks(teams)\n",
    "plt.title(\"\")\n",
    "plt.xlabel('Teams')\n",
    "plt.ylabel('# of Games')\n",
    "plt.legend()\n",
    "plt.show()"
   ]
  },
  {
   "cell_type": "code",
   "execution_count": null,
   "id": "fe5bafc7",
   "metadata": {},
   "outputs": [],
   "source": []
  },
  {
   "cell_type": "code",
   "execution_count": null,
   "id": "310e34ed",
   "metadata": {},
   "outputs": [],
   "source": []
  },
  {
   "cell_type": "code",
   "execution_count": null,
   "id": "8edc793d",
   "metadata": {},
   "outputs": [],
   "source": [
    "covered = 0\n",
    "not_covered = 0\n",
    "push = 0\n",
    "\n",
    "for ind in regression_df.index:\n",
    "    favorite = regression_df.team_favorite_id[ind]\n",
    "    spread = abs(regression_df.spread_favorite[ind])\n",
    "    if (regression_df.team_home[ind] == favorite):\n",
    "        score_diff = regression_df.score_home[ind] - regression_df.score_away[ind]\n",
    "        if (score_diff > spread):\n",
    "            print (\"Spread covered. Favored team won.\")\n",
    "            covered += 1\n",
    "        elif (score_diff == spread):\n",
    "            print (\"Push. Money returned.\")\n",
    "            push += 1\n",
    "        else:\n",
    "            print (\"Spread not covered. Underdog team won.\")\n",
    "            not_covered += 1\n",
    "    else:\n",
    "        score_diff = regression_df.score_away[ind] - regression_df.score_home[ind]\n",
    "        if (score_diff > spread):\n",
    "            print (\"Spread covered. Favored team won.\")\n",
    "            covered += 1\n",
    "        elif (score_diff == spread):\n",
    "            print (\"Push. Money returned.\")\n",
    "            push += 1\n",
    "        else:\n",
    "            print (\"Spread not covered. Underdog team won.\")\n",
    "            not_covered += 1\n",
    "            \n",
    "print(covered)\n",
    "print(push)\n",
    "print(not_covered)"
   ]
  },
  {
   "cell_type": "code",
   "execution_count": 30,
   "id": "d82cc513",
   "metadata": {},
   "outputs": [
    {
     "name": "stdout",
     "output_type": "stream",
     "text": [
      "<class 'pandas.core.frame.DataFrame'>\n",
      "RangeIndex: 5061 entries, 0 to 5060\n",
      "Data columns (total 14 columns):\n",
      " #   Column            Non-Null Count  Dtype  \n",
      "---  ------            --------------  -----  \n",
      " 0   schedule_season   5061 non-null   int64  \n",
      " 1   team_home         5061 non-null   object \n",
      " 2   score_home        5061 non-null   int64  \n",
      " 3   team_away         5061 non-null   object \n",
      " 4   score_away        5061 non-null   int64  \n",
      " 5   team_favorite_id  5061 non-null   object \n",
      " 6   spread_favorite   5061 non-null   float64\n",
      " 7   home_favorite     5061 non-null   bool   \n",
      " 8   home_won          5061 non-null   bool   \n",
      " 9   home_ties         5061 non-null   bool   \n",
      " 10  home_loss         5061 non-null   bool   \n",
      " 11  score_diff        5061 non-null   int64  \n",
      " 12  favorite_won      5061 non-null   bool   \n",
      " 13  spread_covered    5061 non-null   bool   \n",
      "dtypes: bool(6), float64(1), int64(4), object(3)\n",
      "memory usage: 346.1+ KB\n"
     ]
    }
   ],
   "source": [
    "regression_df.info()"
   ]
  },
  {
   "cell_type": "code",
   "execution_count": 67,
   "id": "66fae013",
   "metadata": {},
   "outputs": [
    {
     "data": {
      "text/html": [
       "<div>\n",
       "<style scoped>\n",
       "    .dataframe tbody tr th:only-of-type {\n",
       "        vertical-align: middle;\n",
       "    }\n",
       "\n",
       "    .dataframe tbody tr th {\n",
       "        vertical-align: top;\n",
       "    }\n",
       "\n",
       "    .dataframe thead th {\n",
       "        text-align: right;\n",
       "    }\n",
       "</style>\n",
       "<table border=\"1\" class=\"dataframe\">\n",
       "  <thead>\n",
       "    <tr style=\"text-align: right;\">\n",
       "      <th></th>\n",
       "      <th>schedule_season</th>\n",
       "      <th>spread_favorite</th>\n",
       "      <th>home_favorite</th>\n",
       "      <th>team_favorite_id_ARI</th>\n",
       "      <th>team_favorite_id_ATL</th>\n",
       "      <th>team_favorite_id_BAL</th>\n",
       "      <th>team_favorite_id_BUF</th>\n",
       "      <th>team_favorite_id_CAR</th>\n",
       "      <th>team_favorite_id_CHI</th>\n",
       "      <th>team_favorite_id_CIN</th>\n",
       "      <th>...</th>\n",
       "      <th>team_favorite_id_NYG</th>\n",
       "      <th>team_favorite_id_NYJ</th>\n",
       "      <th>team_favorite_id_PHI</th>\n",
       "      <th>team_favorite_id_PICK</th>\n",
       "      <th>team_favorite_id_PIT</th>\n",
       "      <th>team_favorite_id_SEA</th>\n",
       "      <th>team_favorite_id_SF</th>\n",
       "      <th>team_favorite_id_TB</th>\n",
       "      <th>team_favorite_id_TEN</th>\n",
       "      <th>team_favorite_id_WAS</th>\n",
       "    </tr>\n",
       "  </thead>\n",
       "  <tbody>\n",
       "    <tr>\n",
       "      <th>0</th>\n",
       "      <td>2000</td>\n",
       "      <td>-6.5</td>\n",
       "      <td>True</td>\n",
       "      <td>0</td>\n",
       "      <td>1</td>\n",
       "      <td>0</td>\n",
       "      <td>0</td>\n",
       "      <td>0</td>\n",
       "      <td>0</td>\n",
       "      <td>0</td>\n",
       "      <td>...</td>\n",
       "      <td>0</td>\n",
       "      <td>0</td>\n",
       "      <td>0</td>\n",
       "      <td>0</td>\n",
       "      <td>0</td>\n",
       "      <td>0</td>\n",
       "      <td>0</td>\n",
       "      <td>0</td>\n",
       "      <td>0</td>\n",
       "      <td>0</td>\n",
       "    </tr>\n",
       "    <tr>\n",
       "      <th>1</th>\n",
       "      <td>2000</td>\n",
       "      <td>-1.0</td>\n",
       "      <td>True</td>\n",
       "      <td>0</td>\n",
       "      <td>0</td>\n",
       "      <td>0</td>\n",
       "      <td>1</td>\n",
       "      <td>0</td>\n",
       "      <td>0</td>\n",
       "      <td>0</td>\n",
       "      <td>...</td>\n",
       "      <td>0</td>\n",
       "      <td>0</td>\n",
       "      <td>0</td>\n",
       "      <td>0</td>\n",
       "      <td>0</td>\n",
       "      <td>0</td>\n",
       "      <td>0</td>\n",
       "      <td>0</td>\n",
       "      <td>0</td>\n",
       "      <td>0</td>\n",
       "    </tr>\n",
       "    <tr>\n",
       "      <th>2</th>\n",
       "      <td>2000</td>\n",
       "      <td>-10.5</td>\n",
       "      <td>False</td>\n",
       "      <td>0</td>\n",
       "      <td>0</td>\n",
       "      <td>0</td>\n",
       "      <td>0</td>\n",
       "      <td>0</td>\n",
       "      <td>0</td>\n",
       "      <td>0</td>\n",
       "      <td>...</td>\n",
       "      <td>0</td>\n",
       "      <td>0</td>\n",
       "      <td>0</td>\n",
       "      <td>0</td>\n",
       "      <td>0</td>\n",
       "      <td>0</td>\n",
       "      <td>0</td>\n",
       "      <td>0</td>\n",
       "      <td>0</td>\n",
       "      <td>0</td>\n",
       "    </tr>\n",
       "    <tr>\n",
       "      <th>3</th>\n",
       "      <td>2000</td>\n",
       "      <td>-6.0</td>\n",
       "      <td>True</td>\n",
       "      <td>0</td>\n",
       "      <td>0</td>\n",
       "      <td>0</td>\n",
       "      <td>0</td>\n",
       "      <td>0</td>\n",
       "      <td>0</td>\n",
       "      <td>0</td>\n",
       "      <td>...</td>\n",
       "      <td>0</td>\n",
       "      <td>0</td>\n",
       "      <td>0</td>\n",
       "      <td>0</td>\n",
       "      <td>0</td>\n",
       "      <td>0</td>\n",
       "      <td>0</td>\n",
       "      <td>0</td>\n",
       "      <td>0</td>\n",
       "      <td>0</td>\n",
       "    </tr>\n",
       "    <tr>\n",
       "      <th>4</th>\n",
       "      <td>2000</td>\n",
       "      <td>-2.5</td>\n",
       "      <td>True</td>\n",
       "      <td>0</td>\n",
       "      <td>0</td>\n",
       "      <td>0</td>\n",
       "      <td>0</td>\n",
       "      <td>0</td>\n",
       "      <td>0</td>\n",
       "      <td>0</td>\n",
       "      <td>...</td>\n",
       "      <td>0</td>\n",
       "      <td>0</td>\n",
       "      <td>0</td>\n",
       "      <td>0</td>\n",
       "      <td>0</td>\n",
       "      <td>0</td>\n",
       "      <td>0</td>\n",
       "      <td>0</td>\n",
       "      <td>0</td>\n",
       "      <td>0</td>\n",
       "    </tr>\n",
       "  </tbody>\n",
       "</table>\n",
       "<p>5 rows × 36 columns</p>\n",
       "</div>"
      ],
      "text/plain": [
       "   schedule_season  spread_favorite  home_favorite  team_favorite_id_ARI  \\\n",
       "0             2000             -6.5           True                     0   \n",
       "1             2000             -1.0           True                     0   \n",
       "2             2000            -10.5          False                     0   \n",
       "3             2000             -6.0           True                     0   \n",
       "4             2000             -2.5           True                     0   \n",
       "\n",
       "   team_favorite_id_ATL  team_favorite_id_BAL  team_favorite_id_BUF  \\\n",
       "0                     1                     0                     0   \n",
       "1                     0                     0                     1   \n",
       "2                     0                     0                     0   \n",
       "3                     0                     0                     0   \n",
       "4                     0                     0                     0   \n",
       "\n",
       "   team_favorite_id_CAR  team_favorite_id_CHI  team_favorite_id_CIN  ...  \\\n",
       "0                     0                     0                     0  ...   \n",
       "1                     0                     0                     0  ...   \n",
       "2                     0                     0                     0  ...   \n",
       "3                     0                     0                     0  ...   \n",
       "4                     0                     0                     0  ...   \n",
       "\n",
       "   team_favorite_id_NYG  team_favorite_id_NYJ  team_favorite_id_PHI  \\\n",
       "0                     0                     0                     0   \n",
       "1                     0                     0                     0   \n",
       "2                     0                     0                     0   \n",
       "3                     0                     0                     0   \n",
       "4                     0                     0                     0   \n",
       "\n",
       "   team_favorite_id_PICK  team_favorite_id_PIT  team_favorite_id_SEA  \\\n",
       "0                      0                     0                     0   \n",
       "1                      0                     0                     0   \n",
       "2                      0                     0                     0   \n",
       "3                      0                     0                     0   \n",
       "4                      0                     0                     0   \n",
       "\n",
       "   team_favorite_id_SF  team_favorite_id_TB  team_favorite_id_TEN  \\\n",
       "0                    0                    0                     0   \n",
       "1                    0                    0                     0   \n",
       "2                    0                    0                     0   \n",
       "3                    0                    0                     0   \n",
       "4                    0                    0                     0   \n",
       "\n",
       "   team_favorite_id_WAS  \n",
       "0                     0  \n",
       "1                     0  \n",
       "2                     0  \n",
       "3                     0  \n",
       "4                     0  \n",
       "\n",
       "[5 rows x 36 columns]"
      ]
     },
     "execution_count": 67,
     "metadata": {},
     "output_type": "execute_result"
    }
   ],
   "source": [
    "feature = regression_df[['schedule_season', 'spread_favorite', 'home_favorite', 'team_favorite_id']]\n",
    "feature = pd.get_dummies(feature)\n",
    "target = regression_df[\"spread_covered\"]\n",
    "\n",
    "feature.head()"
   ]
  },
  {
   "cell_type": "code",
   "execution_count": 68,
   "id": "b114296a",
   "metadata": {},
   "outputs": [
    {
     "data": {
      "text/plain": [
       "LogisticRegression()"
      ]
     },
     "execution_count": 68,
     "metadata": {},
     "output_type": "execute_result"
    }
   ],
   "source": [
    "reg = LogisticRegression()\n",
    "reg.fit(np.array(feature), np.array(target))"
   ]
  },
  {
   "cell_type": "code",
   "execution_count": 65,
   "id": "6d128f13",
   "metadata": {},
   "outputs": [
    {
     "data": {
      "text/plain": [
       "33"
      ]
     },
     "execution_count": 65,
     "metadata": {},
     "output_type": "execute_result"
    }
   ],
   "source": [
    "regression_df.team_favorite_id.nunique()"
   ]
  },
  {
   "cell_type": "code",
   "execution_count": 66,
   "id": "3d61c8b4",
   "metadata": {},
   "outputs": [
    {
     "data": {
      "text/plain": [
       "NE      251\n",
       "PIT     228\n",
       "GB      214\n",
       "PHI     212\n",
       "IND     211\n",
       "DEN     204\n",
       "BAL     199\n",
       "NO      193\n",
       "SEA     183\n",
       "DAL     181\n",
       "LAC     171\n",
       "MIN     166\n",
       "NYG     165\n",
       "KC      164\n",
       "ATL     162\n",
       "CAR     156\n",
       "LAR     154\n",
       "TEN     154\n",
       "NYJ     139\n",
       "CIN     136\n",
       "TB      136\n",
       "CHI     134\n",
       "SF      134\n",
       "MIA     121\n",
       "HOU     118\n",
       "BUF     112\n",
       "WAS     112\n",
       "JAX     112\n",
       "ARI     107\n",
       "DET     106\n",
       "LVR     104\n",
       "CLE      80\n",
       "PICK     42\n",
       "Name: team_favorite_id, dtype: int64"
      ]
     },
     "execution_count": 66,
     "metadata": {},
     "output_type": "execute_result"
    }
   ],
   "source": [
    "regression_df.team_favorite_id.value_counts()"
   ]
  },
  {
   "cell_type": "code",
   "execution_count": 69,
   "id": "e5b4aa52",
   "metadata": {},
   "outputs": [
    {
     "name": "stderr",
     "output_type": "stream",
     "text": [
      "C:\\Users\\Gage\\anaconda3\\lib\\site-packages\\sklearn\\base.py:443: UserWarning: X has feature names, but LogisticRegression was fitted without feature names\n",
      "  warnings.warn(\n",
      "C:\\Users\\Gage\\anaconda3\\lib\\site-packages\\sklearn\\base.py:443: UserWarning: X has feature names, but LogisticRegression was fitted without feature names\n",
      "  warnings.warn(\n"
     ]
    }
   ],
   "source": [
    "predicted = reg.predict(feature)\n",
    "actual = target\n",
    "probs = reg.predict_proba(feature)"
   ]
  },
  {
   "cell_type": "code",
   "execution_count": 70,
   "id": "3183d517",
   "metadata": {},
   "outputs": [
    {
     "data": {
      "text/plain": [
       "False    2674\n",
       "True     2387\n",
       "Name: spread_covered, dtype: int64"
      ]
     },
     "execution_count": 70,
     "metadata": {},
     "output_type": "execute_result"
    }
   ],
   "source": [
    "regression_df.spread_covered.value_counts()"
   ]
  },
  {
   "cell_type": "code",
   "execution_count": 71,
   "id": "f8d9f3bc",
   "metadata": {},
   "outputs": [
    {
     "data": {
      "text/plain": [
       "array([False,  True, False, ...,  True, False, False])"
      ]
     },
     "execution_count": 71,
     "metadata": {},
     "output_type": "execute_result"
    }
   ],
   "source": [
    "predicted"
   ]
  },
  {
   "cell_type": "code",
   "execution_count": 72,
   "id": "03b7dfee",
   "metadata": {},
   "outputs": [
    {
     "data": {
      "text/plain": [
       "0        True\n",
       "1        True\n",
       "2        True\n",
       "3       False\n",
       "4       False\n",
       "        ...  \n",
       "5056    False\n",
       "5057    False\n",
       "5058     True\n",
       "5059     True\n",
       "5060    False\n",
       "Name: spread_covered, Length: 5061, dtype: bool"
      ]
     },
     "execution_count": 72,
     "metadata": {},
     "output_type": "execute_result"
    }
   ],
   "source": [
    "actual"
   ]
  },
  {
   "cell_type": "code",
   "execution_count": 73,
   "id": "64a4eb2a",
   "metadata": {},
   "outputs": [
    {
     "data": {
      "text/plain": [
       "array([[0.52972113, 0.47027887],\n",
       "       [0.49450946, 0.50549054],\n",
       "       [0.5707597 , 0.4292403 ],\n",
       "       ...,\n",
       "       [0.47735895, 0.52264105],\n",
       "       [0.53218169, 0.46781831],\n",
       "       [0.56039733, 0.43960267]])"
      ]
     },
     "execution_count": 73,
     "metadata": {},
     "output_type": "execute_result"
    }
   ],
   "source": [
    "probs"
   ]
  },
  {
   "cell_type": "code",
   "execution_count": 74,
   "id": "0f4cadd2",
   "metadata": {},
   "outputs": [
    {
     "name": "stdout",
     "output_type": "stream",
     "text": [
      "[[2117  557]\n",
      " [1751  636]]\n"
     ]
    }
   ],
   "source": [
    "cf_matrix = confusion_matrix(actual, predicted)\n",
    "print(cf_matrix)"
   ]
  },
  {
   "cell_type": "code",
   "execution_count": 75,
   "id": "fc924031",
   "metadata": {},
   "outputs": [
    {
     "name": "stdout",
     "output_type": "stream",
     "text": [
      "              precision    recall  f1-score   support\n",
      "\n",
      "       False       0.55      0.79      0.65      2674\n",
      "        True       0.53      0.27      0.36      2387\n",
      "\n",
      "    accuracy                           0.54      5061\n",
      "   macro avg       0.54      0.53      0.50      5061\n",
      "weighted avg       0.54      0.54      0.51      5061\n",
      "\n"
     ]
    }
   ],
   "source": [
    "print(classification_report(actual, predicted))"
   ]
  },
  {
   "cell_type": "code",
   "execution_count": 76,
   "id": "6848ebea",
   "metadata": {},
   "outputs": [
    {
     "data": {
      "image/png": "[encoded data removed]",
      "text/plain": [
       "<Figure size 432x288 with 2 Axes>"
      ]
     },
     "metadata": {
      "needs_background": "light"
     },
     "output_type": "display_data"
    }
   ],
   "source": [
    "#Plot Confusion Matrix\n",
    "\n",
    "ax = sns.heatmap(cf_matrix, annot=True, cmap=\"Reds\", fmt='g')\n",
    "\n",
    "#{\"#C9002A\", \"#0C0948\", \"#EDF2E8\"}\n",
    "#palette=violin_colors\n",
    "\n",
    "\n",
    "ax.set_title('Seaborn Confusion Matrix');\n",
    "ax.set_xlabel('Predicted Values')\n",
    "ax.set_ylabel('Actual Values');\n",
    "\n",
    "## Ticket labels - List must be in alphabetical order\n",
    "ax.xaxis.set_ticklabels(['False','True'])\n",
    "ax.yaxis.set_ticklabels(['False','True'])\n",
    "\n",
    "## Display the visualization of the Confusion Matrix.\n",
    "plt.show()"
   ]
  },
  {
   "cell_type": "code",
   "execution_count": 78,
   "id": "8262a9d1",
   "metadata": {},
   "outputs": [],
   "source": [
    "from sklearn.ensemble import RandomForestClassifier"
   ]
  },
  {
   "cell_type": "code",
   "execution_count": 79,
   "id": "4c6be9c2",
   "metadata": {},
   "outputs": [
    {
     "data": {
      "text/plain": [
       "RandomForestClassifier()"
      ]
     },
     "execution_count": 79,
     "metadata": {},
     "output_type": "execute_result"
    }
   ],
   "source": [
    "rf = RandomForestClassifier()\n",
    "rf.fit(np.array(feature), np.array(target))"
   ]
  },
  {
   "cell_type": "code",
   "execution_count": 80,
   "id": "dd967a76",
   "metadata": {},
   "outputs": [
    {
     "name": "stderr",
     "output_type": "stream",
     "text": [
      "C:\\Users\\Gage\\anaconda3\\lib\\site-packages\\sklearn\\base.py:443: UserWarning: X has feature names, but RandomForestClassifier was fitted without feature names\n",
      "  warnings.warn(\n",
      "C:\\Users\\Gage\\anaconda3\\lib\\site-packages\\sklearn\\base.py:443: UserWarning: X has feature names, but RandomForestClassifier was fitted without feature names\n",
      "  warnings.warn(\n"
     ]
    }
   ],
   "source": [
    "predicted = rf.predict(feature)\n",
    "actual = target\n",
    "probs = rf.predict_proba(feature)"
   ]
  },
  {
   "cell_type": "code",
   "execution_count": 81,
   "id": "08acb819",
   "metadata": {},
   "outputs": [
    {
     "name": "stdout",
     "output_type": "stream",
     "text": [
      "              precision    recall  f1-score   support\n",
      "\n",
      "       False       0.93      0.94      0.94      2674\n",
      "        True       0.93      0.93      0.93      2387\n",
      "\n",
      "    accuracy                           0.93      5061\n",
      "   macro avg       0.93      0.93      0.93      5061\n",
      "weighted avg       0.93      0.93      0.93      5061\n",
      "\n"
     ]
    }
   ],
   "source": [
    "print(classification_report(actual, predicted))"
   ]
  },
  {
   "cell_type": "code",
   "execution_count": 82,
   "id": "34c0bc0c",
   "metadata": {},
   "outputs": [
    {
     "data": {
      "text/plain": [
       "array([[0.2175    , 0.7825    ],\n",
       "       [0.26      , 0.74      ],\n",
       "       [0.55061905, 0.44938095],\n",
       "       ...,\n",
       "       [0.1905    , 0.8095    ],\n",
       "       [0.07      , 0.93      ],\n",
       "       [0.955     , 0.045     ]])"
      ]
     },
     "execution_count": 82,
     "metadata": {},
     "output_type": "execute_result"
    }
   ],
   "source": [
    "probs"
   ]
  },
  {
   "cell_type": "code",
   "execution_count": 83,
   "id": "83de4635",
   "metadata": {},
   "outputs": [
    {
     "name": "stdout",
     "output_type": "stream",
     "text": [
      "[[2504  170]\n",
      " [ 177 2210]]\n"
     ]
    }
   ],
   "source": [
    "cf_matrix = confusion_matrix(actual, predicted)\n",
    "print(cf_matrix)"
   ]
  },
  {
   "cell_type": "code",
   "execution_count": 84,
   "id": "47ea9373",
   "metadata": {},
   "outputs": [
    {
     "data": {
      "image/png": "[encoded data removed]",
      "text/plain": [
       "<Figure size 432x288 with 2 Axes>"
      ]
     },
     "metadata": {
      "needs_background": "light"
     },
     "output_type": "display_data"
    }
   ],
   "source": [
    "#Plot Confusion Matrix\n",
    "\n",
    "ax = sns.heatmap(cf_matrix, annot=True, cmap=\"Reds\", fmt='g')\n",
    "\n",
    "#{\"#C9002A\", \"#0C0948\", \"#EDF2E8\"}\n",
    "#palette=violin_colors\n",
    "\n",
    "\n",
    "ax.set_title('Seaborn Confusion Matrix');\n",
    "ax.set_xlabel('Predicted Values')\n",
    "ax.set_ylabel('Actual Values');\n",
    "\n",
    "## Ticket labels - List must be in alphabetical order\n",
    "ax.xaxis.set_ticklabels(['False','True'])\n",
    "ax.yaxis.set_ticklabels(['False','True'])\n",
    "\n",
    "## Display the visualization of the Confusion Matrix.\n",
    "plt.show()"
   ]
  },
  {
   "cell_type": "code",
   "execution_count": 88,
   "id": "ab8cabc7",
   "metadata": {},
   "outputs": [
    {
     "data": {
      "text/plain": [
       "schedule_season          2000\n",
       "spread_favorite          -6.5\n",
       "home_favorite            True\n",
       "team_favorite_id_ARI        0\n",
       "team_favorite_id_ATL        1\n",
       "team_favorite_id_BAL        0\n",
       "team_favorite_id_BUF        0\n",
       "team_favorite_id_CAR        0\n",
       "team_favorite_id_CHI        0\n",
       "team_favorite_id_CIN        0\n",
       "team_favorite_id_CLE        0\n",
       "team_favorite_id_DAL        0\n",
       "team_favorite_id_DEN        0\n",
       "team_favorite_id_DET        0\n",
       "team_favorite_id_GB         0\n",
       "team_favorite_id_HOU        0\n",
       "team_favorite_id_IND        0\n",
       "team_favorite_id_JAX        0\n",
       "team_favorite_id_KC         0\n",
       "team_favorite_id_LAC        0\n",
       "team_favorite_id_LAR        0\n",
       "team_favorite_id_LVR        0\n",
       "team_favorite_id_MIA        0\n",
       "team_favorite_id_MIN        0\n",
       "team_favorite_id_NE         0\n",
       "team_favorite_id_NO         0\n",
       "team_favorite_id_NYG        0\n",
       "team_favorite_id_NYJ        0\n",
       "team_favorite_id_PHI        0\n",
       "team_favorite_id_PICK       0\n",
       "team_favorite_id_PIT        0\n",
       "team_favorite_id_SEA        0\n",
       "team_favorite_id_SF         0\n",
       "team_favorite_id_TB         0\n",
       "team_favorite_id_TEN        0\n",
       "team_favorite_id_WAS        0\n",
       "Name: 0, dtype: object"
      ]
     },
     "execution_count": 88,
     "metadata": {},
     "output_type": "execute_result"
    }
   ],
   "source": [
    "data = feature.iloc[0]\n",
    "data"
   ]
  },
  {
   "cell_type": "code",
   "execution_count": 92,
   "id": "af84111d",
   "metadata": {},
   "outputs": [
    {
     "name": "stderr",
     "output_type": "stream",
     "text": [
      "C:\\Users\\Gage\\AppData\\Local\\Temp\\ipykernel_25432\\3666094550.py:1: SettingWithCopyWarning: \n",
      "A value is trying to be set on a copy of a slice from a DataFrame\n",
      "\n",
      "See the caveats in the documentation: https://pandas.pydata.org/pandas-docs/stable/user_guide/indexing.html#returning-a-view-versus-a-copy\n",
      "  data[\"schedule_season\"] = 2019\n",
      "C:\\Users\\Gage\\AppData\\Local\\Temp\\ipykernel_25432\\3666094550.py:2: SettingWithCopyWarning: \n",
      "A value is trying to be set on a copy of a slice from a DataFrame\n",
      "\n",
      "See the caveats in the documentation: https://pandas.pydata.org/pandas-docs/stable/user_guide/indexing.html#returning-a-view-versus-a-copy\n",
      "  data[\"team_favorite_id_ATL\"] = 0\n",
      "C:\\Users\\Gage\\AppData\\Local\\Temp\\ipykernel_25432\\3666094550.py:3: SettingWithCopyWarning: \n",
      "A value is trying to be set on a copy of a slice from a DataFrame\n",
      "\n",
      "See the caveats in the documentation: https://pandas.pydata.org/pandas-docs/stable/user_guide/indexing.html#returning-a-view-versus-a-copy\n",
      "  data[\"team_favorite_id_KC\"] = 1\n",
      "C:\\Users\\Gage\\AppData\\Local\\Temp\\ipykernel_25432\\3666094550.py:4: SettingWithCopyWarning: \n",
      "A value is trying to be set on a copy of a slice from a DataFrame\n",
      "\n",
      "See the caveats in the documentation: https://pandas.pydata.org/pandas-docs/stable/user_guide/indexing.html#returning-a-view-versus-a-copy\n",
      "  data[\"spread_favorite\"] = -10.0\n"
     ]
    },
    {
     "data": {
      "text/plain": [
       "array([[0.64233333, 0.35766667]])"
      ]
     },
     "execution_count": 92,
     "metadata": {},
     "output_type": "execute_result"
    }
   ],
   "source": [
    "data[\"schedule_season\"] = 2019\n",
    "data[\"team_favorite_id_ATL\"] = 0\n",
    "data[\"team_favorite_id_KC\"] = 1\n",
    "data[\"spread_favorite\"] = -10.0\n",
    "\n",
    "rf.predict_proba([data])"
   ]
  },
  {
   "cell_type": "code",
   "execution_count": 93,
   "id": "1d103e40",
   "metadata": {},
   "outputs": [
    {
     "name": "stderr",
     "output_type": "stream",
     "text": [
      "C:\\Users\\Gage\\anaconda3\\lib\\site-packages\\sklearn\\base.py:566: FutureWarning: Arrays of bytes/strings is being converted to decimal numbers if dtype='numeric'. This behavior is deprecated in 0.24 and will be removed in 1.1 (renaming of 0.26). Please convert your data to numeric values explicitly instead.\n",
      "  X = check_array(X, **check_params)\n"
     ]
    },
    {
     "data": {
      "text/plain": [
       "array([[0.55316741, 0.44683259]])"
      ]
     },
     "execution_count": 93,
     "metadata": {},
     "output_type": "execute_result"
    }
   ],
   "source": [
    "reg.predict_proba([data])"
   ]
  },
  {
   "cell_type": "code",
   "execution_count": null,
   "id": "a3fe9f68",
   "metadata": {},
   "outputs": [],
   "source": []
  }
 ],
 "metadata": {
  "kernelspec": {
   "display_name": "Python 3 (ipykernel)",
   "language": "python",
   "name": "python3"
  },
  "language_info": {
   "codemirror_mode": {
    "name": "ipython",
    "version": 3
   },
   "file_extension": ".py",
   "mimetype": "text/x-python",
   "name": "python",
   "nbconvert_exporter": "python",
   "pygments_lexer": "ipython3",
   "version": "3.9.12"
  }
 },
 "nbformat": 4,
 "nbformat_minor": 5
}
